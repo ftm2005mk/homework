{
 "cells": [
  {
   "cell_type": "code",
   "execution_count": null,
   "id": "af9e167e-1b17-45e5-89a9-bf6c01fac218",
   "metadata": {},
   "outputs": [],
   "source": [
    "#Fatemeh Mokaryzadeh"
   ]
  },
  {
   "cell_type": "markdown",
   "id": "2745bd88-0c78-48fe-ba1b-dc3915302e69",
   "metadata": {},
   "source": [
    "<div dir=\"rtl\" style=\"text-align: right;\">\n",
    "\n",
    "### تمرین ۱:\n",
    "برنامه‌ای بنویسید که سه عدد از ورودی دریافت کند و **بزرگ‌ترین عدد** را بدون استفاده از حلقه‌ها و توابع آماده max() یا sorted() پیدا کند.\n"
   ]
  },
  {
   "cell_type": "code",
   "execution_count": 39,
   "id": "5a0110c5-0c45-4b0b-9794-b70e56567a70",
   "metadata": {},
   "outputs": [
    {
     "name": "stdin",
     "output_type": "stream",
     "text": [
      "please enter a number : 1\n",
      "please enter a number :  5\n",
      "please entet a number :  7\n"
     ]
    },
    {
     "name": "stdout",
     "output_type": "stream",
     "text": [
      "maximum number : 7.0\n"
     ]
    }
   ],
   "source": [
    "number1= float (input(\"please enter a number :\"))\n",
    "number2= float (input(\"please enter a number : \"))\n",
    "number3= float (input(\"please entet a number : \"))\n",
    "maximum_number= number1\n",
    "if number2>maximum_number:\n",
    "      maximum_number=number2\n",
    "      if number3>maximum_number:\n",
    "             maximum_number=number3\n",
    "print (\"maximum number :\", maximum_number)"
   ]
  },
  {
   "cell_type": "markdown",
   "id": "88361208-cd5a-4f11-a4e5-9c0177a7a663",
   "metadata": {},
   "source": [
    "<div dir=\"rtl\" style=\"text-align: right;\">\n",
    "\n",
    "### تمرین ۲:\n",
    "برنامه‌ای بنویسید که مقدار **RGB** سه رنگ را از ورودی دریافت کند و بررسی کند آیا رنگ **روشن است یا تیره**. اگر میانگین (R+G+B)/3 بزرگ‌تر از **۱۲۸** بود، خروجی True و در غیر این صورت False باشد.\n"
   ]
  },
  {
   "cell_type": "code",
   "execution_count": null,
   "id": "473193b5-d417-4d33-8663-eea309a54081",
   "metadata": {},
   "outputs": [],
   "source": []
  },
  {
   "cell_type": "markdown",
   "id": "b47e92c9-5c83-4589-8b6f-bc39030dc127",
   "metadata": {},
   "source": [
    "<div dir=\"rtl\" style=\"text-align: right;\">\n",
    "\n",
    "### تمرین ۴:\n",
    "برنامه‌ای بنویسید که سه طول از ورودی دریافت کند و بررسی کند که آیا این سه عدد می‌توانند تشکیل **یک مثلث معتبر** بدهند یا خیر. (شرط اعتبار یک مثلث: مجموع هر دو ضلع باید بزرگ‌تر از ضلع سوم باشد.)\n"
   ]
  },
  {
   "cell_type": "code",
   "execution_count": 34,
   "id": "f1aa27f7-6ac8-4e8b-a0f4-e255ccfc0dae",
   "metadata": {},
   "outputs": [
    {
     "name": "stdin",
     "output_type": "stream",
     "text": [
      "please enter first abscissa :  12\n",
      "please enter second abscissa :  5\n",
      "please enter third abscissa :  16\n"
     ]
    },
    {
     "name": "stdout",
     "output_type": "stream",
     "text": [
      " this three abscissas can make a triangle.\n"
     ]
    }
   ],
   "source": [
    "a=float(input(\"please enter first abscissa : \"))\n",
    "b=float(input(\"please enter second abscissa : \"))\n",
    "c=float(input(\"please enter third abscissa : \" ))\n",
    "\n",
    "if a+b >c and a+c>b and b+c>a:\n",
    "    print( \" this three abscissas can make a triangle.\" )\n",
    "else:\n",
    "    print(\"this three abscissas can not  make a triangle.\")"
   ]
  },
  {
   "cell_type": "markdown",
   "id": "d5cfa92a-0053-4a65-ba41-bf3e5cd4fb9d",
   "metadata": {},
   "source": [
    "<div dir=\"rtl\" style=\"text-align: right;\">\n",
    "\n",
    "### تمرین ۳:\n",
    "برنامه‌ای بنویسید که یک عدد صحیح از ورودی دریافت کند و تعیین کند که آیا عدد **مضربی از ۳ یا ۵** است یا خیر. اگر عدد مضرب یکی از این دو بود، True و در غیر این صورت False چاپ کند.\n"
   ]
  },
  {
   "cell_type": "code",
   "execution_count": 35,
   "id": "0c1fdcf9-2735-41bc-98dd-0f3f9e1a65be",
   "metadata": {},
   "outputs": [
    {
     "name": "stdin",
     "output_type": "stream",
     "text": [
      "enter a intiger number:  25\n"
     ]
    },
    {
     "name": "stdout",
     "output_type": "stream",
     "text": [
      "true\n"
     ]
    }
   ],
   "source": [
    "intiger_number= int (input( \"enter a intiger number: \" )) \n",
    "if intiger_number % 3 == 0 or intiger_number % 5 == 0 :\n",
    "    print (\"true\")\n",
    "else:\n",
    "    print(\"false\")"
   ]
  },
  {
   "cell_type": "markdown",
   "id": "c04c7990-0e72-4034-ad96-0c49afc7f2f1",
   "metadata": {},
   "source": [
    "<div dir=\"rtl\" style=\"text-align: right;\">\n",
    "\n",
    "### تمرین ۵:\n",
    "برنامه‌ای بنویسید که ضرایب یک معادله درجه دوم **\\( ax^2 + bx + c = 0 \\)** را از ورودی دریافت کرده و **ریشه‌های آن را محاسبه کند.**  \n",
    "اگر معادله **ریشه حقیقی ندارد**، پیام مناسبی نمایش داده شود.\n",
    "\n",
    "#### فرمول محاسبه ریشه‌ها:\n",
    "$$\n",
    "x = \\frac{-b \\pm \\sqrt{b^2 - 4ac}}{2a}\n",
    "$$\n",
    "\n",
    "</div>"
   ]
  },
  {
   "cell_type": "code",
   "execution_count": 36,
   "id": "114279e1-f150-47a2-a61a-cbd65da07b7c",
   "metadata": {},
   "outputs": [
    {
     "ename": "SyntaxError",
     "evalue": "invalid syntax (1040303507.py, line 12)",
     "output_type": "error",
     "traceback": [
      "\u001b[1;36m  Cell \u001b[1;32mIn[36], line 12\u001b[1;36m\u001b[0m\n\u001b[1;33m    elif delta == 0:\u001b[0m\n\u001b[1;37m    ^\u001b[0m\n\u001b[1;31mSyntaxError\u001b[0m\u001b[1;31m:\u001b[0m invalid syntax\n"
     ]
    }
   ],
   "source": [
    "#ax**2+bx+c\n",
    "a=float(input(\"enter a :\"))\n",
    "b=float(input(\"entet b : \" ))\n",
    "c=float (input( \" enter c : \" ))\n",
    "delta= b**2 - 4*a*c\n",
    "if delta>0:\n",
    "    root=(-b + delta**0.5) / (2*a)\n",
    "    root1=(-b - delta**0.5) / (2*a)\n",
    "print (\" this equation has two root: \")\n",
    "print (root , root1)\n",
    "\n",
    "elif delta == 0:\n",
    "       root2 = -b / (2*a)\n",
    "print ( \" this equation has one root : \")\n",
    " print (root2)\n",
    "   else:\n",
    "print ( \" this equation has no root.\")"
   ]
  },
  {
   "cell_type": "markdown",
   "id": "886027b3-170e-46d2-b26b-a94e03553844",
   "metadata": {},
   "source": [
    "<div dir=\"rtl\" style=\"text-align: right;\">\n",
    "\n",
    "### تمرین 6:\n",
    "برنامه‌ای بنویسید که یک عدد **\\( x \\)** را از ورودی دریافت کرده و مقدار تابع **\\( y \\)** را طبق رابطه زیر محاسبه کند:\n",
    "\n",
    "\\[\n",
    "y =\n",
    "\\begin{cases} \n",
    "2x + 5, & x > 10 \\\\ \n",
    "x^2 - 4x + 7, & 0 \\leq x \\leq 10 \\\\ \n",
    "|x| + 3, & x < 0 \n",
    "\\end{cases}\n",
    "\\]\n",
    "\n",
    "</div>"
   ]
  },
  {
   "cell_type": "code",
   "execution_count": 37,
   "id": "01f3d41e-f523-4a45-9175-e0c9c812164c",
   "metadata": {},
   "outputs": [
    {
     "name": "stdin",
     "output_type": "stream",
     "text": [
      "please enter anumber : 22\n"
     ]
    },
    {
     "name": "stdout",
     "output_type": "stream",
     "text": [
      "49\n"
     ]
    }
   ],
   "source": [
    "x=int(input(\"please enter anumber :\"))\n",
    "if x>10:\n",
    "    outcome=2*x+5\n",
    "    print(outcome)\n",
    "    \n",
    "elif x<=10:\n",
    "    outcome1= x**2-4*x+7\n",
    "    print (outcome1)\n",
    "\n",
    "elif x>=0:\n",
    "    outcome2=x**2-4*x+7\n",
    "    print(outcome2)\n",
    "    \n",
    "elif X<0:\n",
    "    outcome3=abs(x)+3\n",
    "    print(outcome3)\n"
   ]
  },
  {
   "cell_type": "code",
   "execution_count": null,
   "id": "82253a52-ee96-41d6-850e-319e1d168698",
   "metadata": {},
   "outputs": [],
   "source": []
  },
  {
   "cell_type": "code",
   "execution_count": null,
   "id": "b02ccfa1-e4c1-44ca-858b-2ffbc5afcee6",
   "metadata": {},
   "outputs": [],
   "source": []
  },
  {
   "cell_type": "code",
   "execution_count": null,
   "id": "66fab85f-55c4-4538-9f00-d51aec4f386f",
   "metadata": {},
   "outputs": [],
   "source": []
  }
 ],
 "metadata": {
  "kernelspec": {
   "display_name": "Python 3 (ipykernel)",
   "language": "python",
   "name": "python3"
  },
  "language_info": {
   "codemirror_mode": {
    "name": "ipython",
    "version": 3
   },
   "file_extension": ".py",
   "mimetype": "text/x-python",
   "name": "python",
   "nbconvert_exporter": "python",
   "pygments_lexer": "ipython3",
   "version": "3.13.2"
  }
 },
 "nbformat": 4,
 "nbformat_minor": 5
}
