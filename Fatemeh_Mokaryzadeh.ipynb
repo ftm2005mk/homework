{
 "cells": [
  {
   "cell_type": "code",
   "execution_count": null,
   "id": "9336e35a-442d-404b-96e2-110f327a7807",
   "metadata": {},
   "outputs": [],
   "source": [
    "#Fatemeh_Mokaryzadeh"
   ]
  },
  {
   "cell_type": "code",
   "execution_count": 2,
   "id": "2c78f39b-740b-4a84-b8de-38fa0c986daf",
   "metadata": {},
   "outputs": [
    {
     "name": "stdout",
     "output_type": "stream",
     "text": [
      "[14, 21, 28, 35, 42, 49, 56, 63, 70, 77, 84, 91, 98]\n"
     ]
    }
   ],
   "source": [
    "#1\n",
    "numbers=[]\n",
    "for i in range(10,100):\n",
    "    if i % 7 == 0:\n",
    "        numbers.append(i)\n",
    "    else:\n",
    "        pass\n",
    "print(numbers)        "
   ]
  },
  {
   "cell_type": "code",
   "execution_count": 4,
   "id": "c08454e2-60da-4b74-9b9a-d548864ef083",
   "metadata": {},
   "outputs": [
    {
     "name": "stdout",
     "output_type": "stream",
     "text": [
      "[14, 21, 28, 42, 49, 56, 63, 77, 84, 91, 98]\n"
     ]
    }
   ],
   "source": [
    "#2\n",
    "numbers=[]\n",
    "\n",
    "for i in range(10,100):\n",
    "    if i % 7 == 0:\n",
    "        numbers.append(i)\n",
    "        if i%5 == 0:\n",
    "            numbers.remove(i)\n",
    "            \n",
    "print(numbers)              "
   ]
  },
  {
   "cell_type": "code",
   "execution_count": 6,
   "id": "cee5e00f-b663-4a99-805d-d51975d64d29",
   "metadata": {},
   "outputs": [
    {
     "name": "stdout",
     "output_type": "stream",
     "text": [
      " 1  2  3  4 \n",
      " 5  6  7  8 \n",
      " 9 10 11 12 \n",
      "13 14 15 16 \n",
      "17 18 19 20 \n"
     ]
    }
   ],
   "source": [
    "#3\n",
    "num=0\n",
    "for i in range(5):\n",
    "    for j in range(4):\n",
    "        num += 1\n",
    "        print(f\"{num:2}\", end=\" \")\n",
    "    print()  "
   ]
  },
  {
   "cell_type": "code",
   "execution_count": 8,
   "id": "73b65e1f-9e7f-4827-941a-4aa7b8266c61",
   "metadata": {},
   "outputs": [
    {
     "name": "stdout",
     "output_type": "stream",
     "text": [
      "password is ' 93728154 '\n"
     ]
    }
   ],
   "source": [
    "#4\n",
    "import random\n",
    "password= random.sample(range(10),8)\n",
    "                       \n",
    "print(f\"password is ' {''.join(map(str, password))} '\")     "
   ]
  },
  {
   "cell_type": "code",
   "execution_count": 10,
   "id": "41e9c892-39a1-4bc6-835f-90a3938a7967",
   "metadata": {},
   "outputs": [
    {
     "name": "stdin",
     "output_type": "stream",
     "text": [
      "enter a number:  12\n"
     ]
    },
    {
     "name": "stdout",
     "output_type": "stream",
     "text": [
      "0,1,1,2,3,5,8,13,21,34,55,89,144,"
     ]
    }
   ],
   "source": [
    "#5\n",
    "first_num=0\n",
    "second_num=1\n",
    "fib=int(input(\"enter a number: \"))\n",
    "if fib<=0:\n",
    "    print(\"None\")\n",
    "if fib==1:\n",
    "    print (first_num , second_num)   \n",
    "if fib>1:\n",
    "    print(first_num,end=\",\")\n",
    "    print(second_num,end=\",\")\n",
    "    for i in range (2,fib+1):\n",
    "        next_fib= first_num + second_num\n",
    "        print(next_fib,end=\",\")\n",
    "        first_num=second_num\n",
    "        second_num=next_fib"
   ]
  },
  {
   "cell_type": "code",
   "execution_count": 12,
   "id": "e3ea872e-168b-4ee6-989f-42b618a7a44b",
   "metadata": {},
   "outputs": [
    {
     "name": "stdin",
     "output_type": "stream",
     "text": [
      "please enter your birthday '(like : 1384-03-25)'   2005-6-15\n"
     ]
    },
    {
     "name": "stdout",
     "output_type": "stream",
     "text": [
      "you have lived for 174429 hours and 15 minutes and  25 second \n"
     ]
    }
   ],
   "source": [
    "#6\n",
    "from datetime import datetime\n",
    "birthday=str(input(\"please enter your birthday '(like : 1384-03-25)'  \")) \n",
    "birth_date = datetime.strptime(birthday, \"%Y-%m-%d\")\n",
    "now = datetime.now()\n",
    "time_lived = now - birth_date\n",
    "seconds = time_lived.total_seconds()\n",
    "hours = int(seconds // 3600)\n",
    "minutes = int((seconds % 3600) // 60)\n",
    "remaining_seconds = int(seconds % 60)\n",
    "print(f\"you have lived for {hours} hours and {minutes} minutes and  {remaining_seconds} second \")"
   ]
  },
  {
   "cell_type": "code",
   "execution_count": 14,
   "id": "aa29d054-3468-43b3-9db7-97302a2fea4b",
   "metadata": {},
   "outputs": [
    {
     "name": "stdin",
     "output_type": "stream",
     "text": [
      "in what year were you born ?  2005\n"
     ]
    },
    {
     "name": "stdout",
     "output_type": "stream",
     "text": [
      "633000000.0\n"
     ]
    }
   ],
   "source": [
    "#7\n",
    "from datetime import datetime\n",
    "now = datetime.now()\n",
    "year = float(input(\"in what year were you born ? \"))\n",
    "age= int(now.year - year)\n",
    "second=age * 3.165e7\n",
    "print(second)\n",
    "                "
   ]
  },
  {
   "cell_type": "code",
   "execution_count": 20,
   "id": "e660a37a-3b21-4983-a2b4-83da75a25b06",
   "metadata": {},
   "outputs": [
    {
     "name": "stdout",
     "output_type": "stream",
     "text": [
      "[1, 4, 9, 16, 25, 36, 49, 64, 81, 100, 121, 144, 169, 196, 225, 256, 289, 324, 361, 400]\n"
     ]
    }
   ],
   "source": [
    "#8\n",
    "numbers=[]\n",
    "for i in range (1,21):\n",
    "    numbers. append(i**2)\n",
    "print(numbers)    "
   ]
  },
  {
   "cell_type": "code",
   "execution_count": 22,
   "id": "4ece984d-3cd1-4dca-b2a3-33eaa32726b4",
   "metadata": {},
   "outputs": [
    {
     "name": "stdout",
     "output_type": "stream",
     "text": [
      "maximum value is 78 and minimum value is -22\n"
     ]
    }
   ],
   "source": [
    "#9\n",
    "my_dict={'A':12,'B':56, 'C': -22, 'D':78}\n",
    "min_key = min(my_dict, key=my_dict.get)\n",
    "minimum = my_dict[min_key]\n",
    "max_key = max(my_dict, key=my_dict.get)\n",
    "maximum= my_dict[max_key]\n",
    "print(f\"maximum value is {maximum} and minimum value is {minimum}\")"
   ]
  },
  {
   "cell_type": "code",
   "execution_count": 24,
   "id": "f74a48d9-680b-4631-a2ba-ba76de13093c",
   "metadata": {},
   "outputs": [
    {
     "name": "stdout",
     "output_type": "stream",
     "text": [
      "489636\n"
     ]
    }
   ],
   "source": [
    "#10\n",
    "my_dict={'A':21,'B':6, 'C': 67, 'D':58}\n",
    "x=1\n",
    "for i in my_dict.values():\n",
    "     y=x*i\n",
    "     x=y\n",
    "print (x)      \n",
    "            "
   ]
  },
  {
   "cell_type": "code",
   "execution_count": null,
   "id": "e09d30ef-0966-437d-9de7-b4497fc79c41",
   "metadata": {},
   "outputs": [],
   "source": []
  }
 ],
 "metadata": {
  "kernelspec": {
   "display_name": "Python [conda env:base] *",
   "language": "python",
   "name": "conda-base-py"
  },
  "language_info": {
   "codemirror_mode": {
    "name": "ipython",
    "version": 3
   },
   "file_extension": ".py",
   "mimetype": "text/x-python",
   "name": "python",
   "nbconvert_exporter": "python",
   "pygments_lexer": "ipython3",
   "version": "3.12.7"
  }
 },
 "nbformat": 4,
 "nbformat_minor": 5
}
