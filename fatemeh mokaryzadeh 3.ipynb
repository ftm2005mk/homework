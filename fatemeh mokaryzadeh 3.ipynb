#fatemeh mokaryzadeh
{
 "cells": [
  {
   "cell_type": "markdown",
   "id": "41a6d087-498a-457f-8540-3c8a45ad57b9",
   "metadata": {},
   "source": [
    " تمرین ۱: استخراج کلمات یکتا از یک متن\r\n",
    "صورت سوال:\r\n",
    "برنامه‌ای بنویسید که از کاربر یک جمله بگیرد، سپس:\r\n",
    "\r\n",
    "کلماتی که تکراری نیستند را پیدا کند.\r\n",
    "\r\n",
    "آن‌ها را بر اساس طول کلمه مرتب کند.\r\n",
    "\r\n",
    "فقط کلماتی که طولشان بیشتر از ۳ است را نمایش دهد.\r\n"
   ]
  },
  {
   "cell_type": "code",
   "execution_count": 55,
   "id": "00836dda-d1e6-444d-bf43-d1c4db8438fe",
   "metadata": {},
   "outputs": [
    {
     "name": "stdin",
     "output_type": "stream",
     "text": [
      "write down a sentence:  The darkest nights produce brightest stars.\n"
     ]
    },
    {
     "name": "stdout",
     "output_type": "stream",
     "text": [
      "['brightest', 'produce', 'darkest', 'stars.', 'nights', 'The']\n"
     ]
    }
   ],
   "source": [
    "sentence = str (input(\"write down a sentence: \"))\n",
    "words = sentence.split()\n",
    "unique_word= set (words)\n",
    "words_list=list(unique_word)\n",
    "sort_words=sorted(words_list,key=len , reverse = True)\n",
    "final=[]\n",
    "for word in sort_words :\n",
    "    if len(word) > 2:\n",
    "        final.append(word)\n",
    "print(final)        "
   ]
  },
  {
   "attachments": {},
   "cell_type": "markdown",
   "id": "735060c2-99cc-4b44-9ddc-32457ed33c60",
   "metadata": {},
   "source": [
    ". تمرین ۲: شمارش و مرتب‌سازی حروف\r\n",
    "صورت سوال:\r\n",
    "برنامه‌ای بنویسید که از کاربر یک رشته بگیرد و:\r\n",
    "\r\n",
    "هر حرفی که در رشته وجود دارد را بشمارد.\r\n",
    "\r\n",
    "بر اساس تعداد تکرار از بیشترین به کمترین مرتب کند.\r\n",
    "\r\n",
    "حروفی که فقط یک بار آمده‌اند را حذف کند.\r\n",
    "nd{document}\r\n"
   ]
  },
  {
   "cell_type": "code",
   "execution_count": 71,
   "id": "0dab6a88-6b10-411f-b456-edde1ab0ca4a",
   "metadata": {},
   "outputs": [
    {
     "name": "stdin",
     "output_type": "stream",
     "text": [
      "write down a text   apple banana movie appreciation\n"
     ]
    },
    {
     "name": "stdout",
     "output_type": "stream",
     "text": [
      "sorting letters by frequency :\n",
      "a: 6\n",
      "p: 4\n",
      "e: 3\n",
      "n: 3\n",
      "o: 2\n",
      "i: 3\n"
     ]
    }
   ],
   "source": [
    "sentence = str(input(\"write down a text \"))\n",
    "text= sentence.replace(\" \" , \"\")\n",
    "words=[]\n",
    "count=[]\n",
    "for char in text:  \n",
    "    if char not in words:\n",
    "       words.append(char)\n",
    "       count.append(text.count(char))\n",
    "\n",
    "for i in range(len(count)):\n",
    "    maximum= i \n",
    "    for j in range (i+1,len(count)):\n",
    "        if count[j]>count[maximum]:\n",
    "          maximum=j\n",
    "        count[i], count[maximum] = count[maximum], count[i]\n",
    "        words[i], words[maximum] = words[maximum], words[i]\n",
    "for i in range(len(count)-1,-1,-1):\n",
    "    if count[i]==1 :\n",
    "       words.pop(i)\n",
    "       count.pop(i)\n",
    "print(\"sorting letters by frequency :\")\n",
    "for i in range(len(words)):\n",
    "    print(f\"{words[i]}: {count[i]}\")\n"
   ]
  },
  {
   "cell_type": "markdown",
   "id": "bacea26f-f59c-4ffc-af8c-557dcd7d0cf0",
   "metadata": {},
   "source": [
    ". تمرین ۳: بازی حدس عدد\r\n",
    "صورت سوال:\r\n",
    "برنامه یک عدد تصادفی بین ۱ تا ۵۰ تولید کند.\r\n",
    "از کاربر بخواهد که حدس بزند.\r\n",
    "\r\n",
    "اگر عدد کمتر بود، بگوید \"عدد بزرگ‌تر است!\"\r\n",
    "\r\n",
    "اگر عدد بیشتر بود، بگوید \"عدد کوچک‌تر است!\"\r\n",
    "\r\n",
    "تا زمانی که عدد درست حدس زده نشده، ادامه دهد.\r\n",
    "\r\n"
   ]
  },
  {
   "cell_type": "code",
   "execution_count": 30,
   "id": "90f8fc1c-863d-442e-bca4-fb295f84fe36",
   "metadata": {},
   "outputs": [
    {
     "name": "stdin",
     "output_type": "stream",
     "text": [
      "guess the number :  40\n"
     ]
    },
    {
     "name": "stdout",
     "output_type": "stream",
     "text": [
      "This number is smaller\n"
     ]
    },
    {
     "name": "stdin",
     "output_type": "stream",
     "text": [
      "guess the number :  38\n"
     ]
    },
    {
     "name": "stdout",
     "output_type": "stream",
     "text": [
      "This number is smaller\n"
     ]
    },
    {
     "name": "stdin",
     "output_type": "stream",
     "text": [
      "guess the number :  30\n"
     ]
    },
    {
     "name": "stdout",
     "output_type": "stream",
     "text": [
      "This number is greater\n"
     ]
    },
    {
     "name": "stdin",
     "output_type": "stream",
     "text": [
      "guess the number :  35\n"
     ]
    },
    {
     "name": "stdout",
     "output_type": "stream",
     "text": [
      "This number is greater\n"
     ]
    },
    {
     "name": "stdin",
     "output_type": "stream",
     "text": [
      "guess the number :  36\n"
     ]
    },
    {
     "name": "stdout",
     "output_type": "stream",
     "text": [
      "Done\n"
     ]
    }
   ],
   "source": [
    "import random\n",
    "num=random.randint(1,50)\n",
    "while True:\n",
    "    input_num=int(input (\"guess the number : \"))\n",
    "    if input_num > num:\n",
    "            print(\"This number is smaller\")\n",
    "    elif input_num < num :\n",
    "            print (\"This number is greater\")\n",
    "    else:\n",
    "               break\n",
    "print (\"Done\")"
   ]
  },
  {
   "cell_type": "markdown",
   "id": "fd2f67fb-e627-4c9e-97ff-d6aab087e191",
   "metadata": {},
   "source": [
    ". تمرین ۴: فیلتر کردن و چرخش لیست\r\n",
    "صورت سوال:\r\n",
    "از کاربر یک لیست از اعداد بگیرد.\r\n",
    "\r\n",
    "فقط اعداد زوج را نگه دارد.\r\n",
    "\r\n",
    "لیست را یک واحد به چپ بچرخاند.\r\n",
    "\r\n",
    "جمع اعداد جدید را نمایش دهد.\r\n",
    "\r\n",
    "\r\n"
   ]
  },
  {
   "cell_type": "code",
   "execution_count": 48,
   "id": "56dcd16e-ef86-4186-91c2-d9ebbb989ccb",
   "metadata": {},
   "outputs": [
    {
     "name": "stdin",
     "output_type": "stream",
     "text": [
      "please enter any number you want :  12\n",
      "when you want to finish just write 'Done' if you want to continue write 'no'  no\n",
      "please enter any number you want :  31\n",
      "when you want to finish just write 'Done' if you want to continue write 'no'  no\n",
      "please enter any number you want :  98\n",
      "when you want to finish just write 'Done' if you want to continue write 'no'  no\n",
      "please enter any number you want :  100\n",
      "when you want to finish just write 'Done' if you want to continue write 'no'  no\n",
      "please enter any number you want :  157\n",
      "when you want to finish just write 'Done' if you want to continue write 'no'  no\n",
      "please enter any number you want :  32\n",
      "when you want to finish just write 'Done' if you want to continue write 'no'  n0\n",
      "please enter any number you want :  34\n",
      "when you want to finish just write 'Done' if you want to continue write 'no'  Done\n"
     ]
    },
    {
     "name": "stdout",
     "output_type": "stream",
     "text": [
      "[12, 98, 100, 32, 34]\n"
     ]
    }
   ],
   "source": [
    "List=[]\n",
    "\n",
    "while True :\n",
    "    num=int(input(\"please enter any number you want : \"))\n",
    "    List.append(num)\n",
    "    Done=str(input(\"when you want to finish just write 'Done' if you want to continue write 'no' \"))\n",
    "    if Done == 'Done':\n",
    "             break\n",
    "\n",
    "Even_number=[]\n",
    "for number in List :\n",
    "     if number % 2 == 0 :\n",
    "       Even_number.append(number)\n",
    "\n",
    "print (Even_number)\n",
    "    "
   ]
  },
  {
   "cell_type": "markdown",
   "id": "517b31bd-3d33-4cc8-ab52-878cc9339004",
   "metadata": {},
   "source": [
    " تمرین ۵: برعکس کردن کلمات جمله\r\n",
    "صورت سوال:\r\n",
    "برنامه‌ای بنویسید که از کاربر یک جمله بگیرد و تمام کلمات آن را برعکس کند اما ترتیب کلمات را تغییر ندهد.\r\n",
    "\r\n"
   ]
  },
  {
   "cell_type": "code",
   "execution_count": 5,
   "id": "5c5690c3-0cd5-46f9-9bfe-7e23e88d5594",
   "metadata": {},
   "outputs": [
    {
     "name": "stdin",
     "output_type": "stream",
     "text": [
      "plz write a sentence:  I love programming \n"
     ]
    },
    {
     "name": "stdout",
     "output_type": "stream",
     "text": [
      "['I', 'evol', 'gnimmargorp']\n"
     ]
    }
   ],
   "source": [
    "sentence =str(input(\"plz write a sentence: \"))\n",
    "words= sentence.split()\n",
    "reversed_words = []\n",
    "for word in words:\n",
    "    reversed_words.append(word[::-1])\n",
    "print(reversed_words)"
   ]
  },
  {
   "cell_type": "markdown",
   "id": "293932c6-a5c3-4c20-bcf1-f739d21a6304",
   "metadata": {},
   "source": [
    " تمرین ۶: یافتن میانگین نمرات دانشجویان\r\n",
    "صورت سوال:\r\n",
    "از کاربر دو لیست بگیرد:\r\n",
    "\r\n",
    "لیست نام دانشجویان\r\n",
    "\r\n",
    "لیست نمرات هر دانشجو\r\n",
    "سپس نام یک دانشجو را دریافت کند و میانگین نمرات او را حساب کند.\r\n",
    "\r\n",
    "\r\n"
   ]
  },
  {
   "cell_type": "code",
   "execution_count": 93,
   "id": "113dd769-4dc2-4823-9024-a23127135013",
   "metadata": {},
   "outputs": [
    {
     "name": "stdin",
     "output_type": "stream",
     "text": [
      "Write down student's name (or type 'done' to stop):  nima\n",
      "Input nima's grades (separate by space, or type 'end' to skip):  20 20 18 19\n",
      "Write down student's name (or type 'done' to stop):  mina\n",
      "Input mina's grades (separate by space, or type 'end' to skip):  12 15 16 17\n",
      "Write down student's name (or type 'done' to stop):  raz\n",
      "Input raz's grades (separate by space, or type 'end' to skip):  20 20 20 18\n",
      "Write down student's name (or type 'done' to stop):  sahand\n",
      "Input sahand's grades (separate by space, or type 'end' to skip):  19 18 15 20\n",
      "Write down student's name (or type 'done' to stop):  done\n",
      "Input student name for average grade:  mina\n"
     ]
    },
    {
     "name": "stdout",
     "output_type": "stream",
     "text": [
      "Average grade for mina: 15.00\n"
     ]
    }
   ],
   "source": [
    "students = {}\n",
    "while True:\n",
    "    name = input(\"Write down student's name (or type 'done' to stop): \")\n",
    "    if name.lower() == \"done\":  \n",
    "        break  \n",
    "\n",
    "    grades = [] \n",
    "\n",
    "    student_grades = input(f\"Input {name}'s grades (separate by space, or type 'end' to skip): \")\n",
    "    \n",
    "    if student_grades.lower() == \"end\":\n",
    "        continue  \n",
    "\n",
    "    grades_list = student_grades.split()  \n",
    "    for grade in grades_list:\n",
    "        try:\n",
    "            grades.append(float(grade)) \n",
    "        except ValueError:\n",
    "            print(f\"Invalid grade: {grade}\") \n",
    "\n",
    "    students[name] = grades \n",
    "\n",
    "search_name = input(\"Input student name for average grade: \")\n",
    "\n",
    "if search_name in students:\n",
    "    grades = students[search_name]\n",
    "    if len(grades) > 0:\n",
    "        average = sum(grades) / len(grades)\n",
    "        print(f\"Average grade for {search_name}: {average:.2f}\")\n",
    "    else:\n",
    "        print(f\"There are no grades for this student.\")\n",
    "else:\n",
    "    print(\"This student was not found.\")"
   ]
  }
 ],
 "metadata": {
  "kernelspec": {
   "display_name": "Python [conda env:base] *",
   "language": "python",
   "name": "conda-base-py"
  },
  "language_info": {
   "codemirror_mode": {
    "name": "ipython",
    "version": 3
   },
   "file_extension": ".py",
   "mimetype": "text/x-python",
   "name": "python",
   "nbconvert_exporter": "python",
   "pygments_lexer": "ipython3",
   "version": "3.12.7"
  }
 },
 "nbformat": 4,
 "nbformat_minor": 5
}
